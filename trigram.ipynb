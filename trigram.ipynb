{
 "cells": [
  {
   "cell_type": "code",
   "execution_count": 1,
   "metadata": {},
   "outputs": [
    {
     "data": {
      "text/plain": [
       "'emma'"
      ]
     },
     "execution_count": 1,
     "metadata": {},
     "output_type": "execute_result"
    }
   ],
   "source": [
    "words = open(\"names.txt\", \"r\").read().splitlines()\n",
    "words[0]"
   ]
  },
  {
   "cell_type": "code",
   "execution_count": 2,
   "metadata": {},
   "outputs": [
    {
     "name": "stdout",
     "output_type": "stream",
     "text": [
      "['emma', 'olivia', 'ava']\n",
      "['.', 'e', 'e', 'm', 'm', 'm', 'm', 'a', '.', 'o', 'o', 'l', 'l', 'i', 'i', 'v', 'v', 'i', 'i', 'a']\n",
      "['m', 'm', 'a', '.', 'l', 'i', 'v', 'i', 'a', '.']\n"
     ]
    }
   ],
   "source": [
    "xin = []\n",
    "yin = []\n",
    "for word in words:\n",
    "    chs = ['.'] + list(word) + ['.']\n",
    "    for ch1, ch2, ch3 in zip(chs, chs[1:], chs[2:]):\n",
    "        # print(ch1, ch2, ch3)\n",
    "        xin.append(ch1)\n",
    "        xin.append(ch2)\n",
    "        yin.append(ch3)\n",
    "        # if ch3 == '.':\n",
    "        #     break\n",
    "print(words[:3])\n",
    "print(xin[:20])\n",
    "print(yin[:10])"
   ]
  },
  {
   "cell_type": "code",
   "execution_count": 3,
   "metadata": {},
   "outputs": [
    {
     "name": "stdout",
     "output_type": "stream",
     "text": [
      "13\n",
      "140\n",
      ".o\n",
      "m\n"
     ]
    }
   ],
   "source": [
    "chars = sorted(list(set(''.join(words))))\n",
    "stoi = {s:i+1 for i, s in enumerate(chars)}\n",
    "stoi['.'] = 0\n",
    "itos = {i:s for s, i in stoi.items()}\n",
    "\n",
    "def stoi2(s, t):\n",
    "    return stoi[s] * len(stoi) + stoi[t]\n",
    "\n",
    "def itos2(i):\n",
    "    return itos[i // len(stoi)] + itos[i % len(stoi)]\n",
    "\n",
    "print(stoi['m'])\n",
    "print(stoi2('e', 'e'))\n",
    "print(itos2(15))\n",
    "print(itos[13])"
   ]
  },
  {
   "cell_type": "code",
   "execution_count": 4,
   "metadata": {},
   "outputs": [],
   "source": [
    "import torch"
   ]
  },
  {
   "cell_type": "code",
   "execution_count": 5,
   "metadata": {},
   "outputs": [],
   "source": [
    "xs, ys = [], []\n",
    "\n",
    "for ch1, ch2, ch3 in zip(xin[::2], xin[1::2], yin):\n",
    "    xs.append(stoi2(ch1, ch2))\n",
    "    ys.append(stoi[ch3])\n",
    "\n",
    "# print(xin[:10], yin[:5])\n",
    "# print(xs[:5], ys[:5])\n"
   ]
  },
  {
   "cell_type": "code",
   "execution_count": 9,
   "metadata": {},
   "outputs": [
    {
     "name": "stdout",
     "output_type": "stream",
     "text": [
      "torch.Size([196113])\n",
      "torch.Size([196113])\n"
     ]
    }
   ],
   "source": [
    "print(xs.shape)\n",
    "print(ys.shape)\n"
   ]
  },
  {
   "cell_type": "code",
   "execution_count": 7,
   "metadata": {},
   "outputs": [],
   "source": [
    "xs = torch.tensor(xs)\n",
    "ys = torch.tensor(ys)\n",
    "import torch.nn.functional as F\n",
    "xenc = F.one_hot(xs, num_classes=729).float()\n",
    "g = torch.Generator().manual_seed(2147483647)\n",
    "W = torch.randn((729, 27), generator=g, requires_grad=True)"
   ]
  },
  {
   "cell_type": "code",
   "execution_count": null,
   "metadata": {},
   "outputs": [],
   "source": [
    "char_counts = {char: (ys == index).sum().item() for char, index in stoi.items()}\n",
    "\n",
    "print(\"Character counts in ys:\")\n",
    "for char, count in char_counts.items():\n",
    "    print(f\"{char}: {count}\")\n",
    "\n",
    "total_chars = sum(char_counts.values())\n",
    "print(f\"\\nTotal characters: {total_chars}\")\n",
    "print(f\"Total elements in ys: {len(ys)}\")"
   ]
  },
  {
   "cell_type": "code",
   "execution_count": 45,
   "metadata": {},
   "outputs": [
    {
     "name": "stdout",
     "output_type": "stream",
     "text": [
      "Iteration 0, Loss: 3.72312331199646\n",
      "Iteration 100, Loss: 2.0675392150878906\n",
      "Iteration 200, Loss: 2.0641331672668457\n",
      "Iteration 300, Loss: 2.063145160675049\n",
      "Iteration 400, Loss: 2.0627074241638184\n",
      "Iteration 500, Loss: 2.062469244003296\n",
      "Iteration 600, Loss: 2.0623230934143066\n",
      "Iteration 700, Loss: 2.062225818634033\n",
      "Iteration 800, Loss: 2.06215763092041\n",
      "Iteration 900, Loss: 2.0621070861816406\n"
     ]
    }
   ],
   "source": [
    "learning_rate = 0.1  # Reduced learning rate\n",
    "optimizer = torch.optim.Adam([W], lr=learning_rate)\n",
    "\n",
    "for k in range(1000):  # Increased number of iterations\n",
    "    optimizer.zero_grad()\n",
    "    logits = xenc @ W\n",
    "    loss = F.cross_entropy(logits, ys)\n",
    "    loss.backward()\n",
    "    optimizer.step()\n",
    "    \n",
    "    if k % 100 == 0:\n",
    "        print(f'Iteration {k}, Loss: {loss.item()}')"
   ]
  },
  {
   "cell_type": "code",
   "execution_count": 48,
   "metadata": {},
   "outputs": [
    {
     "name": "stdout",
     "output_type": "stream",
     "text": [
      ".: 0.3693\n",
      "n: 0.3231\n",
      "h: 0.1885\n",
      "s: 0.0225\n",
      "r: 0.0221\n",
      "m: 0.0213\n",
      "l: 0.0102\n",
      "a: 0.0057\n",
      "g: 0.0057\n",
      "v: 0.0049\n",
      "i: 0.0041\n",
      "d: 0.0033\n",
      "y: 0.0033\n",
      "t: 0.0029\n",
      "b: 0.0025\n",
      "u: 0.0020\n",
      "k: 0.0020\n",
      "z: 0.0012\n",
      "p: 0.0008\n",
      "c: 0.0008\n",
      "e: 0.0008\n",
      "q: 0.0008\n",
      "o: 0.0008\n",
      "j: 0.0008\n",
      "f: 0.0004\n",
      "x: 0.0002\n",
      "w: 0.0000\n"
     ]
    }
   ],
   "source": [
    "def get_probability_distribution(input_chars):\n",
    "    # Convert input characters to index\n",
    "    ix = stoi2(input_chars[0], input_chars[1])\n",
    "    \n",
    "    # Create one-hot encoding for the input\n",
    "    xenc1 = F.one_hot(torch.tensor([ix]), num_classes=729).float()\n",
    "    \n",
    "    # Calculate logits\n",
    "    logits1 = xenc1 @ W\n",
    "    \n",
    "    # Apply softmax to get probabilities\n",
    "    probs = F.softmax(logits1, dim=1)\n",
    "    \n",
    "    # Convert to numpy for easier handling\n",
    "    probs_np = probs.detach().numpy()[0]\n",
    "    \n",
    "    # Create a dictionary of character probabilities\n",
    "    char_probs = {itos[i]: prob for i, prob in enumerate(probs_np)}\n",
    "    \n",
    "    return char_probs\n",
    "\n",
    "# Example usage\n",
    "input_chars = 'ia'  # Example input\n",
    "prob_dist = get_probability_distribution(input_chars)\n",
    "\n",
    "# Print probabilities sorted by value\n",
    "for char, prob in sorted(prob_dist.items(), key=lambda x: x[1], reverse=True):\n",
    "    print(f\"{char}: {prob:.4f}\")"
   ]
  },
  {
   "cell_type": "code",
   "execution_count": null,
   "metadata": {},
   "outputs": [
    {
     "name": "stdout",
     "output_type": "stream",
     "text": [
      "Name 1: oan\n",
      "Name 2: phion\n",
      "Name 3: slea\n",
      "Name 4: gann\n",
      "Name 5: treiaghalah\n",
      "Name 6: iz\n",
      "Name 7: zir\n",
      "Name 8: uzana\n",
      "Name 9: zinsham\n",
      "Name 10: zyra\n",
      "Name 11: yah\n",
      "Name 12: olla\n",
      "Name 13: karydne\n",
      "Name 14: dael\n",
      "Name 15: gue\n"
     ]
    }
   ],
   "source": [
    "def generate_names(num_names):\n",
    "    g = torch.Generator().manual_seed(2147483648)\n",
    "    names = []\n",
    "    \n",
    "    for _ in range(num_names):\n",
    "        name = []\n",
    "        ch1, ch2 = '.', '.'  # Start with '..' as the initial bigram\n",
    "        \n",
    "        while True:\n",
    "            prob_dist = get_probability_distribution(ch1 + ch2)\n",
    "            probs = torch.tensor(list(prob_dist.values()))\n",
    "            next_char_idx = torch.multinomial(probs, num_samples=1, replacement=True, generator=g).item()\n",
    "            next_char = itos[next_char_idx]\n",
    "            \n",
    "            if next_char == '.':  # End of name\n",
    "                break\n",
    "            \n",
    "            name.append(next_char)\n",
    "            ch1, ch2 = ch2, next_char\n",
    "        \n",
    "        names.append(''.join(name))\n",
    "    \n",
    "    return names\n",
    "\n",
    "# Generate and print 5 names\n",
    "generated_names = generate_names(15)\n",
    "for i, name in enumerate(generated_names, 1):\n",
    "    print(f\"Name {i}: {name}\")"
   ]
  },
  {
   "cell_type": "code",
   "execution_count": null,
   "metadata": {},
   "outputs": [],
   "source": []
  }
 ],
 "metadata": {
  "kernelspec": {
   "display_name": "ml_env",
   "language": "python",
   "name": "python3"
  },
  "language_info": {
   "codemirror_mode": {
    "name": "ipython",
    "version": 3
   },
   "file_extension": ".py",
   "mimetype": "text/x-python",
   "name": "python",
   "nbconvert_exporter": "python",
   "pygments_lexer": "ipython3",
   "version": "3.12.4"
  }
 },
 "nbformat": 4,
 "nbformat_minor": 2
}
