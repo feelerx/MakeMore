{
 "cells": [
  {
   "cell_type": "code",
   "execution_count": 1,
   "metadata": {},
   "outputs": [
    {
     "data": {
      "text/plain": [
       "'emma'"
      ]
     },
     "execution_count": 1,
     "metadata": {},
     "output_type": "execute_result"
    }
   ],
   "source": [
    "words =  open(\"names.txt\", \"r\").read().splitlines()\n",
    "words[0]"
   ]
  },
  {
   "cell_type": "code",
   "execution_count": 2,
   "metadata": {},
   "outputs": [],
   "source": [
    "import torch\n",
    "import torch.nn.functional as F"
   ]
  },
  {
   "cell_type": "code",
   "execution_count": 3,
   "metadata": {},
   "outputs": [],
   "source": [
    "xin = []\n",
    "yin = []\n",
    "for word in words:\n",
    "    chs = ['.'] + list(word) + ['.']\n",
    "    for ch1, ch2, ch3 in zip(chs, chs[1:], chs[2:]):\n",
    "        # print(ch1, ch2, ch3)\n",
    "        xin.append(ch1)\n",
    "        xin.append(ch2)\n",
    "        yin.append(ch3)\n",
    "        # if ch3 == '.':\n",
    "        #     break\n",
    "# print(words[:3])\n",
    "# print(xin[:20])\n",
    "# print(yin[:10])\n",
    "\n",
    "\n",
    "chars = sorted(list(set(''.join(words))))\n",
    "stoi = {s:i+1 for i, s in enumerate(chars)}\n",
    "stoi['.'] = 0\n",
    "itos = {i:s for s, i in stoi.items()}\n",
    "\n",
    "def stoi2(s, t):\n",
    "    return stoi[s] * len(stoi) + stoi[t]\n",
    "\n",
    "def itos2(i):\n",
    "    return itos[i // len(stoi)] + itos[i % len(stoi)]\n",
    "\n",
    "# print(stoi['m'])\n",
    "# print(stoi2('e', 'e'))\n",
    "# print(itos2(15))\n",
    "# print(itos[13])\n",
    "\n",
    "xs, ys = [], []\n",
    "\n",
    "for ch1, ch2, ch3 in zip(xin[::2], xin[1::2], yin):\n",
    "    xs.append(stoi2(ch1, ch2))\n",
    "    ys.append(stoi[ch3])\n",
    "\n",
    "xs = torch.tensor(xs)\n",
    "ys = torch.tensor(ys)"
   ]
  },
  {
   "cell_type": "code",
   "execution_count": null,
   "metadata": {},
   "outputs": [],
   "source": []
  },
  {
   "cell_type": "code",
   "execution_count": 294,
   "metadata": {},
   "outputs": [],
   "source": [
    "h_l = 200\n",
    "emb_space = 20\n",
    "\n",
    "g = torch.Generator().manual_seed(2147483647)\n",
    "C = torch.randn((729, emb_space), generator=g, requires_grad=True)\n",
    "\n",
    "W1 = torch.randn((C.shape[1], h_l), generator=g, requires_grad=True)\n",
    "b1 = torch.randn((h_l), generator=g, requires_grad=True)\n",
    "\n",
    "W2 = torch.randn((h_l, 27), generator=g, requires_grad=True)\n",
    "b2 = torch.randn((27), generator=g, requires_grad=True)\n",
    "\n",
    "parameters = [C, W1, b1, W2, b2]"
   ]
  },
  {
   "cell_type": "code",
   "execution_count": 83,
   "metadata": {},
   "outputs": [
    {
     "data": {
      "text/plain": [
       "torch.Size([729, 50])"
      ]
     },
     "execution_count": 83,
     "metadata": {},
     "output_type": "execute_result"
    }
   ],
   "source": [
    "C.shape"
   ]
  },
  {
   "cell_type": "code",
   "execution_count": 325,
   "metadata": {},
   "outputs": [
    {
     "name": "stdout",
     "output_type": "stream",
     "text": [
      "1.8815360069274902\n"
     ]
    }
   ],
   "source": [
    "#forward pass\n",
    "for _ in range(10000):\n",
    "    # mini_batch\n",
    "    batch = torch.randint(0, xs.shape[0], (32,)) \n",
    "    emb = C[xs[batch]]\n",
    "    h = torch.tanh(emb@W1 + b1)\n",
    "    logits = h@W2 + b2\n",
    "    loss = F.cross_entropy(logits, ys[batch])\n",
    "    #backward pass\n",
    "    for p in parameters:\n",
    "        p.grad = None\n",
    "    loss.backward()\n",
    "    for p in parameters:\n",
    "        p.data += -0.0001 * p.grad\n",
    "print(loss.item())"
   ]
  },
  {
   "cell_type": "code",
   "execution_count": 326,
   "metadata": {},
   "outputs": [
    {
     "name": "stdout",
     "output_type": "stream",
     "text": [
      "2.0787549018859863\n"
     ]
    }
   ],
   "source": [
    "emb = (C[xs]).view(-1, C.shape[1])\n",
    "h = torch.tanh(emb@W1 + b1)\n",
    "logits = h@W2 + b2\n",
    "loss = F.cross_entropy(logits, ys)\n",
    "print(loss.item())"
   ]
  },
  {
   "cell_type": "code",
   "execution_count": 327,
   "metadata": {},
   "outputs": [
    {
     "name": "stdout",
     "output_type": "stream",
     "text": [
      ".: 0.3696\n",
      "n: 0.3201\n",
      "h: 0.1915\n",
      "s: 0.0229\n",
      "r: 0.0207\n",
      "m: 0.0200\n",
      "l: 0.0094\n",
      "a: 0.0070\n",
      "g: 0.0062\n",
      "v: 0.0046\n",
      "y: 0.0041\n",
      "d: 0.0039\n",
      "t: 0.0031\n",
      "i: 0.0029\n",
      "b: 0.0025\n",
      "u: 0.0024\n",
      "k: 0.0017\n",
      "e: 0.0016\n",
      "p: 0.0013\n",
      "q: 0.0013\n",
      "o: 0.0009\n",
      "c: 0.0008\n",
      "z: 0.0008\n",
      "w: 0.0004\n",
      "f: 0.0000\n",
      "j: 0.0000\n",
      "x: 0.0000\n"
     ]
    }
   ],
   "source": [
    "def get_probability_distribution(input_chars):\n",
    "    # Convert input characters to index\n",
    "    ix = stoi2(input_chars[0], input_chars[1])\n",
    "    \n",
    "    # Get embedding for the input\n",
    "    emb = C[ix].unsqueeze(0)\n",
    "    \n",
    "    # Calculate hidden layer\n",
    "    h = torch.tanh(emb @ W1 + b1)\n",
    "    \n",
    "    # Calculate logits\n",
    "    logits = h @ W2 + b2\n",
    "    \n",
    "    # Apply softmax to get probabilities\n",
    "    probs = F.softmax(logits, dim=1)\n",
    "    \n",
    "    # Convert to numpy for easier handling\n",
    "    probs_np = probs.detach().numpy()[0]\n",
    "    \n",
    "    # Create a dictionary of character probabilities\n",
    "    char_probs = {itos[i]: prob for i, prob in enumerate(probs_np)}\n",
    "    \n",
    "    return char_probs\n",
    "\n",
    "# Example usage\n",
    "input_chars = 'ia'  # Example input\n",
    "prob_dist = get_probability_distribution(input_chars)\n",
    "\n",
    "# Print probabilities sorted by value\n",
    "for char, prob in sorted(prob_dist.items(), key=lambda x: x[1], reverse=True):\n",
    "    print(f\"{char}: {prob:.4f}\")"
   ]
  },
  {
   "cell_type": "code",
   "execution_count": 328,
   "metadata": {},
   "outputs": [
    {
     "name": "stdout",
     "output_type": "stream",
     "text": [
      "Name 1: aan\n",
      "Name 2: ainor\n",
      "Name 3: alea\n",
      "Name 4: em\n",
      "Name 5: emareiagdalah\n",
      "Name 6: aphali\n",
      "Name 7: anah\n",
      "Name 8: avinsham\n",
      "Name 9: eyah\n",
      "Name 10: eni\n",
      "Name 11: olla\n",
      "Name 12: larydne\n",
      "Name 13: aubris\n",
      "Name 14: eilyna\n",
      "Name 15: eahikenainexx\n"
     ]
    }
   ],
   "source": [
    "def generate_names(num_names):\n",
    "    g = torch.Generator().manual_seed(2147483648)\n",
    "    names = []\n",
    "    \n",
    "    for _ in range(num_names):\n",
    "        name = []\n",
    "        ch1, ch2 = '.', '.'  # Start with '..' as the initial bigram\n",
    "        \n",
    "        while True:\n",
    "            prob_dist = get_probability_distribution(ch1 + ch2)\n",
    "            probs = torch.tensor(list(prob_dist.values()))\n",
    "            next_char_idx = torch.multinomial(probs, num_samples=1, replacement=True, generator=g).item()\n",
    "            next_char = itos[next_char_idx]\n",
    "            \n",
    "            if next_char == '.':  # End of name\n",
    "                break\n",
    "            \n",
    "            name.append(next_char)\n",
    "            ch1, ch2 = ch2, next_char\n",
    "        \n",
    "        names.append(''.join(name))\n",
    "    \n",
    "    return names\n",
    "\n",
    "# Generate and print 5 names\n",
    "generated_names = generate_names(15)\n",
    "for i, name in enumerate(generated_names, 1):\n",
    "    print(f\"Name {i}: {name}\")"
   ]
  },
  {
   "cell_type": "code",
   "execution_count": null,
   "metadata": {},
   "outputs": [],
   "source": []
  }
 ],
 "metadata": {
  "kernelspec": {
   "display_name": "ml_env",
   "language": "python",
   "name": "python3"
  },
  "language_info": {
   "codemirror_mode": {
    "name": "ipython",
    "version": 3
   },
   "file_extension": ".py",
   "mimetype": "text/x-python",
   "name": "python",
   "nbconvert_exporter": "python",
   "pygments_lexer": "ipython3",
   "version": "3.12.4"
  }
 },
 "nbformat": 4,
 "nbformat_minor": 2
}
